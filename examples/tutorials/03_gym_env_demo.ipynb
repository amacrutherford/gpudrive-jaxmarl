{
 "cells": [
  {
   "cell_type": "markdown",
   "metadata": {},
   "source": [
    "## Gymnasium environments\n",
    "\n",
    "This Section shows how you can make and use the `gym` environments that interface with the simulator."
   ]
  },
  {
   "cell_type": "code",
   "execution_count": 3,
   "metadata": {},
   "outputs": [],
   "source": [
    "import os\n",
    "from pathlib import Path\n",
    "import numpy as np\n",
    "import torch\n",
    "import imageio\n",
    "from IPython.display import HTML, Image\n",
    "\n",
    "# Set working directory to the base directory 'gpudrive'\n",
    "working_dir = Path.cwd()\n",
    "while working_dir.name != 'gpudrive':\n",
    "    working_dir = working_dir.parent\n",
    "    if working_dir == Path.home():\n",
    "        raise FileNotFoundError(\"Base directory 'gpudrive' not found\")\n",
    "os.chdir(working_dir)\n",
    "\n",
    "from pygpudrive.env.config import EnvConfig, RenderConfig\n",
    "from pygpudrive.env.env_torch import GPUDriveTorchEnv"
   ]
  },
  {
   "cell_type": "markdown",
   "metadata": {},
   "source": [
    "### Helper functions"
   ]
  },
  {
   "cell_type": "code",
   "execution_count": 4,
   "metadata": {},
   "outputs": [],
   "source": [
    "def display_gif(filename, width=500, height=500):\n",
    "    display(\n",
    "        Image(\n",
    "            data=open(filename, \"rb\").read(), format=\"gif\", width=width, height=height\n",
    "        )\n",
    "    )"
   ]
  },
  {
   "cell_type": "markdown",
   "metadata": {},
   "source": [
    "### Settings"
   ]
  },
  {
   "cell_type": "code",
   "execution_count": 6,
   "metadata": {},
   "outputs": [],
   "source": [
    "EPISODE_LENGTH = 91  # Number of steps in each episode\n",
    "MAX_NUM_OBJECTS = 128  # Maximum number of objects in the scene we control\n",
    "NUM_WORLDS = 50  # Number of parallel environments\n",
    "\n",
    "# Set the path to where you want to save the videos\n",
    "VIDEO_PATH = \"./videos\"\n",
    "\n",
    "SCENE_NAME = \"example_scene\"\n",
    "\n",
    "FPS = 4  # Video frames per second"
   ]
  },
  {
   "cell_type": "markdown",
   "metadata": {},
   "source": [
    "### Initializing environments\n",
    "\n",
    "- We provide both a torch and jax gymnasium interface with the simulator. Most functionality is specified in the `GPUDriveGymEnv` class in the `base_env`, `torch_env` and `jax_env` both inherit from the `GPUDriveGymEnv`, the only difference between these is that one exports torch tensors and the other jax arrays.\n",
    "- All environment settings are defined in the `EnvConfig` dataclass. \n",
    "- All rendering configs are defined in the `RenderConfig` dataclass\n"
   ]
  },
  {
   "cell_type": "code",
   "execution_count": 7,
   "metadata": {},
   "outputs": [],
   "source": [
    "env_config = EnvConfig(\n",
    "    steer_actions = torch.round(\n",
    "        torch.linspace(-1.0, 1.0, 3), decimals=3),\n",
    "    accel_actions = torch.round(\n",
    "        torch.linspace(-3, 3, 3), decimals=3\n",
    "    )\n",
    ")"
   ]
  },
  {
   "cell_type": "code",
   "execution_count": 8,
   "metadata": {},
   "outputs": [],
   "source": [
    "render_config = RenderConfig(\n",
    "    resolution=(256, 256), # Make sure to set the resolution\n",
    ")"
   ]
  },
  {
   "cell_type": "markdown",
   "metadata": {},
   "source": [
    "---\n",
    "\n",
    "> **For more info about the environment configurations, see `pygpudrive/env/README.md`**\n",
    "\n",
    "---"
   ]
  },
  {
   "cell_type": "code",
   "execution_count": null,
   "metadata": {},
   "outputs": [],
   "source": [
    "env = GPUDriveTorchEnv(\n",
    "    config=env_config,\n",
    "    num_worlds=NUM_WORLDS,\n",
    "    max_cont_agents=MAX_NUM_OBJECTS,  # Number of agents to control\n",
    "    data_dir=\"example_data\",\n",
    "    device=\"cuda\",\n",
    "    render_config=render_config,\n",
    ")"
   ]
  },
  {
   "cell_type": "markdown",
   "metadata": {},
   "source": [
    "### Run an episode with `num_worlds` parallel environments\n",
    "\n",
    "A single rollout (one episode) is implemented as follows:\n",
    "- We step through 50 worlds simultaneously.\n",
    "- Use the `world_render_idx` argument in `render(.)` to select which world to render."
   ]
  },
  {
   "cell_type": "code",
   "execution_count": null,
   "metadata": {},
   "outputs": [],
   "source": [
    "obs = env.reset()\n",
    "frames = []\n",
    "\n",
    "for _ in range(EPISODE_LENGTH):\n",
    "    # SELECT ACTIONS\n",
    "    rand_action = torch.Tensor(\n",
    "        [[env.action_space.sample() for _ in range(MAX_NUM_OBJECTS * NUM_WORLDS)]]\n",
    "    ).reshape(NUM_WORLDS, MAX_NUM_OBJECTS)\n",
    "\n",
    "    # STEP\n",
    "    env.step_dynamics(rand_action)\n",
    "\n",
    "    obs = env.get_obs()\n",
    "    reward = env.get_rewards()\n",
    "    done = env.get_dones()\n",
    "\n",
    "    # RENDER\n",
    "    frame = env.render(world_render_idx=0)\n",
    "    frames.append(frame)"
   ]
  },
  {
   "cell_type": "markdown",
   "metadata": {},
   "source": [
    "### Display video"
   ]
  },
  {
   "cell_type": "code",
   "execution_count": null,
   "metadata": {},
   "outputs": [],
   "source": [
    "# Calculate duration between frames\n",
    "duration = 1 / FPS\n",
    "\n",
    "Path(f\"{VIDEO_PATH}/{SCENE_NAME}\").parent.mkdir(parents=True, exist_ok=True)\n",
    "\n",
    "# Save the frames as a gif\n",
    "imageio.mimsave(f\"{VIDEO_PATH}/{SCENE_NAME}.gif\", frames, duration=duration)"
   ]
  },
  {
   "cell_type": "code",
   "execution_count": null,
   "metadata": {},
   "outputs": [],
   "source": [
    "display(HTML(f\"<h3>{SCENE_NAME}</h3>\"))\n",
    "display_gif(f\"{VIDEO_PATH}/{SCENE_NAME}.gif\")"
   ]
  }
 ],
 "metadata": {
  "kernelspec": {
   "display_name": "gdrive",
   "language": "python",
   "name": "python3"
  },
  "language_info": {
   "codemirror_mode": {
    "name": "ipython",
    "version": 3
   },
   "file_extension": ".py",
   "mimetype": "text/x-python",
   "name": "python",
   "nbconvert_exporter": "python",
   "pygments_lexer": "ipython3",
   "version": "3.11.5"
  }
 },
 "nbformat": 4,
 "nbformat_minor": 2
}
